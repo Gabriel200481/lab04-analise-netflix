{
 "cells": [
  {
   "cell_type": "markdown",
   "id": "a6aa8424",
   "metadata": {},
   "source": [
    "# Sprint 0 — Verificação do Ambiente\n",
    "\n",
    "Este notebook verifica itens do Sprint 0: Python, pandas, e presença do arquivo `netflix_titles_CLEANED.csv`.\n",
    "\n",
    "Instruções: execute as células abaixo no Jupyter Notebook (kernel Python)."
   ]
  },
  {
   "cell_type": "code",
   "execution_count": null,
   "id": "ceb93dcc",
   "metadata": {},
   "outputs": [],
   "source": [
    "# Célula 1: verificar versão do Python e pandas\n",
    "import sys\n",
    "import os\n",
    "print('Python:', sys.version.replace('\n",
    "',' '))\n",
    "try:\n",
    "    import pandas as pd\n",
    "    print('pandas:', pd.__version__)\n",
    "except Exception as e:\n",
    "    print('pandas nao esta instalado ou ocorreu erro:', e)"
   ]
  },
  {
   "cell_type": "code",
   "execution_count": null,
   "id": "d228fcf9",
   "metadata": {},
   "outputs": [],
   "source": [
    "# Célula 2: listar arquivos na raiz do projeto e checar o CSV em data/\n",
    "root = '.'\n",
    "print('Arquivos e pastas na raiz:')\n",
    "print(os.listdir(root))\n",
    "data_path = os.path.join('data', 'netflix_titles_CLEANED.csv')\n",
    "print('\n",
    "Verificando arquivo:', data_path)\n",
    "print('Existe?', os.path.exists(data_path))"
   ]
  }
 ],
 "metadata": {
  "language_info": {
   "name": "python"
  }
 },
 "nbformat": 4,
 "nbformat_minor": 5
}
