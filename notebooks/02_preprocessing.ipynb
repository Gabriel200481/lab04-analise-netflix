{
 "cells": [
  {
   "cell_type": "markdown",
   "id": "9976d089",
   "metadata": {},
   "source": [
    "# Sprint 1 — Pré-processamento e Caracterização\n",
    "\n",
    "Este notebook segue a metodologia do Sprint 1: limpar o dataset, criar colunas derivadas e exportar o CSV tratado. Execute as células abaixo (kernel Python) após ativar a venv."
   ]
  },
  {
   "cell_type": "code",
   "execution_count": null,
   "id": "a7317d94",
   "metadata": {},
   "outputs": [],
   "source": [
    "# Célula 1: importar e executar o script de preprocessamento\n",
    "import os\n",
    "from pathlib import Path\n",
    "import src.preprocess as pp\n",
    "\n",
    "root = Path('..').resolve() if Path('.').name != 'labDeChatisse' else Path('.')\n",
    "input_candidate = None\n",
    "# o script procura por data/netflix_titles_CLEANED.csv automaticamente\",\n",
    "result = pp.preprocess(pp.find_input_csv(), os.path.join('data','netflix_tratado_final.csv'))\n",
    "print('DataFrame result:', result.shape)"
   ]
  },
  {
   "cell_type": "markdown",
   "id": "577ad59d",
   "metadata": {},
   "source": [
    "# Observações\n",
    "- O script `src/preprocess.py` cria e salva `data/netflix_tratado_final.csv`.\n",
    "- O arquivo salvo possui linhas explodidas por país/gênero/diretor, útil para contagens e agrupamentos."
   ]
  }
 ],
 "metadata": {
  "language_info": {
   "name": "python"
  }
 },
 "nbformat": 4,
 "nbformat_minor": 5
}
