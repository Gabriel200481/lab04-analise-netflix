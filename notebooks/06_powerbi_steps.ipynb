{
 "cells": [
  {
   "cell_type": "markdown",
   "id": "a2862450",
   "metadata": {},
   "source": [
    "# Power BI — Passos rápidos para montar o dashboard Lab04\n",
    "\n",
    "Este notebook descreve os passos recomendados para montar as 4 páginas do dashboard no Power BI Desktop usando os artefatos gerados pelo pipeline Python (CSV e imagens)."
   ]
  },
  {
   "cell_type": "markdown",
   "id": "65f1036d",
   "metadata": {},
   "source": [
    "## 1) Preparação dos dados (no Python)\n",
    "\n",
    "1. Execute o preprocess para gerar `data/netflix_tratado_final.csv` (linha por country/genre/director):\n",
    "\n",
    "```python\n",
    "\n",
    "2. Gere os agregados para Power BI (opcional):\n",
    "\n",
    "```python\n",
    "\n",
    "Os arquivos gerados ficam em `data/`: `top10_countries.csv`, `country_genre_counts.csv`, `annual_trends.csv`, `heatmap_month_year.csv` e o CSV tratado `netflix_tratado_final.csv`.\n",
    ": \n",
    ",\n",
    ": {\n",
    ": \n",
    "\n",
    ": [\n",
    "2\n",
    "1\n",
    ",\n",
    ",\n",
    ",\n",
    ","
   ]
  },
  {
   "cell_type": "markdown",
   "id": "986a13ff",
   "metadata": {},
   "source": [
    "## 3) Página 2 e 3 — Estratégia Global e Sazonalidade\n",
    "\n",
    "- Página 2 (Top 10 países): importe `top10_countries.csv` para o gráfico de barras horizontais. Para a especialização por gênero, use `country_genre_counts.csv` numa matriz (rows: country, columns: genre, values: count).\n",
    "- Página 3 (Tendência anual e heatmap sazonal): importe `annual_trends.csv` (gráfico de linha) e `heatmap_month_year.csv` (matrix/heatmap ou pivot). Use `added_year`/`added_month` nas medidas.\n",
    ": \n",
    ",\n",
    ": {\n",
    ": \n",
    "\n",
    ": [\n",
    "4\n",
    "4\n",
    ",\n",
    ","
   ]
  },
  {
   "cell_type": "markdown",
   "id": "8fdd8409",
   "metadata": {},
   "source": [
    "## 5) Exportar e entregar\n",
    "\n",
    "- Depois de montar e revisar, exporte o relatório no Power BI Desktop como PDF (File → Export → Export to PDF).\n",
    "- Como alternativa rápido: há um script Python no repositório que compõe imagens PNG em `output/dashboard_netflix.pdf` (se preferir não abrir o Power BI)."
   ]
  }
 ],
 "metadata": {
  "language_info": {
   "name": "python"
  }
 },
 "nbformat": 4,
 "nbformat_minor": 5
}
