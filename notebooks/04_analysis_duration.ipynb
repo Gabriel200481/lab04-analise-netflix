{
 "cells": [
  {
   "cell_type": "markdown",
   "id": "b5243157",
   "metadata": {},
   "source": [
    "# Sprint 3 — Análise de Duração e Classificação (RQ4)\n",
    "\n",
    "Execute as células abaixo para gerar as figuras e visualizá-las. "
   ]
  },
  {
   "cell_type": "code",
   "execution_count": null,
   "id": "b6b39e1b",
   "metadata": {},
   "outputs": [],
   "source": [
    "# Executa o script que gera as figuras\n",
    "import src.analysis_duration as ad\n",
    "ad.main()\n",
    "\n",
    "# Mostrar arquivos gerados\n",
    "import os\n",
    "from pathlib import Path\n",
    "p = Path('assets/figures')\n",
    "print(list(p.glob('*.png')))"
   ]
  },
  {
   "cell_type": "markdown",
   "id": "893c9a8e",
   "metadata": {},
   "source": [
    "Abra as imagens na pasta `assets/figures/` e insira no relatório conforme o template em `docs/report_template.md`."
   ]
  }
 ],
 "metadata": {
  "language_info": {
   "name": "python"
  }
 },
 "nbformat": 4,
 "nbformat_minor": 5
}
