{
 "cells": [
  {
   "cell_type": "markdown",
   "id": "b5243157",
   "metadata": {},
   "source": [
    "# Sprint 3 — Análise de Duração e Classificação (RQ4)\n",
    "\n",
   ]
  },
  {
   "cell_type": "code",
   "execution_count": null,
   "id": "b6b39e1b",
   "metadata": {},
   "outputs": [],
   "source": [
    "import src.analysis_duration as ad\n",
    "ad.main()\n",
    "\n",
    "# Mostrar arquivos gerados\n",
    "import os\n",
    "from pathlib import Path\n",
    "p = Path('assets/figures')\n",
    "print(list(p.glob('*.png')))"
   ]
  },
  {
   "cell_type": "markdown",
   "id": "893c9a8e",
   "metadata": {},
   "source": [
   ]
  }
 ],
 "metadata": {
  "language_info": {
   "name": "python"
  }
 },
 "nbformat": 4,
 "nbformat_minor": 5
}
