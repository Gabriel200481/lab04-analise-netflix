{
 "cells": [
  {
   "cell_type": "markdown",
   "id": "b3c3fa91",
   "metadata": {},
   "source": [
    "# Sprint 2 — Preparação de dados para Power BI\n",
    "\n",
    "Este notebook executa `src/prepare_powerbi.py` e mostra as saídas geradas (head)."
   ]
  },
  {
   "cell_type": "code",
   "execution_count": null,
   "id": "cdf06e08",
   "metadata": {},
   "outputs": [],
   "source": [
    "import os\n",
    "from pathlib import Path\n",
    "import pandas as pd\n",
    "\n",
    "# Executar o script (chama a funcao prepare)\n",
    "import src.prepare_powerbi as prep\n",
    "prep.prepare()\n",
    "\n",
    "data_dir = Path('data')\n",
    "for f in ['country_counts.csv', 'top10_countries.csv', 'country_genre_counts.csv', 'annual_trends.csv', 'heatmap_month_year.csv']:\n",
    "    p = data_dir / f\n",
    "    if p.exists():\n",
    "        print('\n",
    "---', f, '---')\n",
    "        print(pd.read_csv(p).head())\n",
    "    else:\n",
    "        print('\n",
    "Arquivo nao encontrado:', p)"
   ]
  }
 ],
 "metadata": {
  "language_info": {
   "name": "python"
  }
 },
 "nbformat": 4,
 "nbformat_minor": 5
}
