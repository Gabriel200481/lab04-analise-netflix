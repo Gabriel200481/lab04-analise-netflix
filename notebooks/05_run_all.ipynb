{
 "cells": [
  {
   "cell_type": "markdown",
   "id": "bb5ae7df",
   "metadata": {},
   "source": [
    "# Sprint 0-3 — Execução completa (padronizar, gerar plotly e relatório)\n",
    "\n",
    "Este notebook chama os scripts na ordem: standardize_countries -> prepare_powerbi -> generate_plotly -> analysis_duration -> generate_report_docx"
   ]
  },
  {
   "cell_type": "code",
   "execution_count": null,
   "id": "7176b37d",
   "metadata": {},
   "outputs": [],
   "source": [
    "import src.standardize_countries as sc\n",
    "import src.prepare_powerbi as pp\n",
    "import src.generate_plotly as gp\n",
    "import src.analysis_duration as ad\n",
    "import src.generate_report_docx as gr\n",
    "\n",
    "# 1) padronizar paises\n",
    "sc.standardize()\n",
    "# 2) preparar csvs para powerbi (opcional se voce ja rodou)\n",
    "pp.prepare()\n",
    "# 3) gerar arquivos plotly interativos\n",
    "gp.main()\n",
    "# 4) gerar figuras de duracao (png)\n",
    "ad.main()\n",
    "# 5) gerar docx do relatorio\n",
    "gr.generate()\n",
    "print('Execucao completa (ver output/ e assets/)')"
   ]
  }
 ],
 "metadata": {
  "language_info": {
   "name": "python"
  }
 },
 "nbformat": 4,
 "nbformat_minor": 5
}
